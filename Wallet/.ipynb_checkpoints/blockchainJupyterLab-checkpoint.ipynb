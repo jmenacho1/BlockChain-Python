{
 "cells": [
  {
   "cell_type": "code",
   "execution_count": 7,
   "metadata": {},
   "outputs": [
    {
     "data": {
      "text/plain": [
       "True"
      ]
     },
     "execution_count": 7,
     "metadata": {},
     "output_type": "execute_result"
    }
   ],
   "source": [
    "# Set imports\n",
    "import subprocess\n",
    "import json\n",
    "from json.decoder import JSONDecodeError\n",
    "from constants import *\n",
    "from web3 import Web3\n",
    "from web3.auto.gethdev import w3\n",
    "from web3.middleware import geth_poa_middleware\n",
    "import os\n",
    "from dotenv import load_dotenv\n",
    "from eth_account import Account\n",
    "from pathlib import Path\n",
    "from bit import wif_to_key, PrivateKeyTestnet, PrivateKey, Key\n",
    "from getpass import getpass\n",
    "\n",
    "load_dotenv()"
   ]
  },
  {
   "cell_type": "code",
   "execution_count": 8,
   "metadata": {},
   "outputs": [],
   "source": [
    "# Set env to call mnemonic\n",
    "mnemonic = os.getenv('mnemonic')"
   ]
  },
  {
   "cell_type": "code",
   "execution_count": 9,
   "metadata": {},
   "outputs": [],
   "source": [
    "def derive_wallets(coin):\n",
    "    \"\"\"Use the subprocess library to call the php file script from Python\"\"\"\n",
    "    command = f'php hd-wallet-derive/hd-wallet-derive.php -g --mnemonic=\"{mnemonic}\" --cols=address,index,path,privkey,pubkey,pubkeyhash,xprv,xpub --numderive=\"{numderive}\" --coin=\"{coin}\" --format=json'\n",
    "    # ^ i think if u have ' after f then i think you have to have \" around the variables u are passing thru. same as if u had \" with the f to start - u wud have to have ' around the variables u are passing thru\n",
    "\n",
    "    p = subprocess.Popen(command, stdout=subprocess.PIPE, shell=True)\n",
    "    # read data from standard output and err\n",
    "    (output, err) = p.communicate()\n",
    "    # Need to wait for child process to terminate - allows you to run process. \n",
    "    p_status = p.wait()\n",
    "    '''Got a Json Decoder issue. Tried the following two with not success:'''\n",
    "    #output2 = str(output).strip(\"'<>() \").replace('\\'','\\\"')\n",
    "    #output2 = output.decode(\"utf-8\")[0]\n",
    "    keys = return json.loads(output)\n",
    "    return keys\n",
    "\n",
    "# coins = {\n",
    "    ETH: derive_wallets(ETH),\n",
    "    BTCTEST: derive_wallets(BTCTEST)\n",
    "}\n",
    "print(coins)"
   ]
  },
  {
   "cell_type": "code",
   "execution_count": null,
   "metadata": {},
   "outputs": [],
   "source": [
    "INDEX = 0\n",
    "\n",
    "# print(coins[BTCTEST][0]['privkey'])"
   ]
  },
  {
   "cell_type": "code",
   "execution_count": null,
   "metadata": {},
   "outputs": [],
   "source": [
    "# keys['btc-test'][0]['privkey']"
   ]
  },
  {
   "cell_type": "code",
   "execution_count": null,
   "metadata": {},
   "outputs": [],
   "source": [
    "# w3 = Web3(Web3.HTTPProvider(\"http://127.0.0.1:8545\"))\n",
    "# print(w3.eth.blockNumber)"
   ]
  },
  {
   "cell_type": "code",
   "execution_count": null,
   "metadata": {},
   "outputs": [],
   "source": []
  }
 ],
 "metadata": {
  "kernelspec": {
   "display_name": "Python 3",
   "language": "python",
   "name": "python3"
  },
  "language_info": {
   "codemirror_mode": {
    "name": "ipython",
    "version": 3
   },
   "file_extension": ".py",
   "mimetype": "text/x-python",
   "name": "python",
   "nbconvert_exporter": "python",
   "pygments_lexer": "ipython3",
   "version": "3.7.7"
  }
 },
 "nbformat": 4,
 "nbformat_minor": 4
}
